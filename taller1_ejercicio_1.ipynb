{
 "metadata": {
  "name": "",
  "signature": "sha256:06c787ca83dbd357a01a5524bd80e41436ca640c8e5ded1d145ada0d571807f3"
 },
 "nbformat": 3,
 "nbformat_minor": 0,
 "worksheets": [
  {
   "cells": [
    {
     "cell_type": "markdown",
     "metadata": {},
     "source": [
      "# Ejercicio de repaso taller 1 \n",
      "\n",
      "Asuma que tiene un arreglo `trxs` en donde cada elemento es un registro (diccionario) con informaci\u00f3n sobre una transacci\u00f3n. Cada registro solo tiene dos campos: `\"nit\"` y `\"valor\"`, con el nit del cliente que efectu\u00f3 la transacci\u00f3n y el valor monetario de la misma, respectivamente. "
     ]
    },
    {
     "cell_type": "code",
     "collapsed": false,
     "input": [
      "trxs = [\n",
      "    { \"nit\" : 123123 , \"valor\" : 123400 }, \n",
      "    { \"nit\" : 231231 , \"valor\" : 3400  },\n",
      "    { \"nit\" : 31230  , \"valor\" : 34000 },\n",
      "    { \"nit\" : 123123 , \"valor\" : 12400 },\n",
      "    { \"nit\" : 123123 , \"valor\" : 23400 },\n",
      "    { \"nit\" : 31230  , \"valor\" : 1200  },\n",
      "    { \"nit\" : 231231 , \"valor\" : 12340 }\n",
      "]\n",
      "trxs"
     ],
     "language": "python",
     "metadata": {},
     "outputs": [
      {
       "metadata": {},
       "output_type": "pyout",
       "prompt_number": 2,
       "text": [
        "[{'valor': 123400, 'nit': 123123},\n",
        " {'valor': 3400, 'nit': 231231},\n",
        " {'valor': 34000, 'nit': 31230},\n",
        " {'valor': 12400, 'nit': 123123},\n",
        " {'valor': 23400, 'nit': 123123},\n",
        " {'valor': 1200, 'nit': 31230},\n",
        " {'valor': 12340, 'nit': 231231}]"
       ]
      }
     ],
     "prompt_number": 2
    },
    {
     "cell_type": "code",
     "collapsed": false,
     "input": [
      "for i in trxs[0].items() : print( i )"
     ],
     "language": "python",
     "metadata": {},
     "outputs": [
      {
       "output_type": "stream",
       "stream": "stdout",
       "text": [
        "('valor', 123400)\n",
        "('nit', 123123)\n"
       ]
      }
     ],
     "prompt_number": 9
    },
    {
     "cell_type": "markdown",
     "metadata": {},
     "source": [
      "Su misi\u00f3n es escribir un fragmento de c\u00f3digo que agregue las transacciones por nit. \n",
      "Es decir produzca un nuevo diccionario en donde la llave sea un nit y el valor sea la suma de los valores de \n",
      "las transacciones para ese nit. \n",
      "El resultado esperado en el ejemplo de arriba ser\u00eda: \n"
     ]
    },
    {
     "cell_type": "code",
     "collapsed": false,
     "input": [
      "resultado = {123123: 159200.0, \n",
      " 31230: 35200.0, \n",
      " 231231: 15740.0}"
     ],
     "language": "python",
     "metadata": {},
     "outputs": [],
     "prompt_number": 8
    },
    {
     "cell_type": "code",
     "collapsed": false,
     "input": [
      "# Complete el c\u00f3digo que sigue\n",
      "# Esto inicializa la variable resultado \n",
      "# a un diccionario vac\u00edo\n",
      "resultado = {} \n",
      "# Pista 1 :  Recuerde que para recorrer un arreglo usted puede usar la sintaxis\n",
      "#            for elem in trxs :   \n",
      "#            elem ser\u00e1 asignado sucesivamente a cada elemento de trxs \n",
      "# Pista 2 :  Para ver si  la llave  nit = 123123  a\u00fan no est\u00e1 en el diccionario usted puede usar \n",
      "#            if nit not in resultado :  # el bloque que sigue se ejecutar\u00e1 si resultado no contiene\n",
      "#            una entrada  este nit "
     ],
     "language": "python",
     "metadata": {},
     "outputs": [],
     "prompt_number": 1
    },
    {
     "cell_type": "code",
     "collapsed": false,
     "input": [],
     "language": "python",
     "metadata": {},
     "outputs": []
    }
   ],
   "metadata": {}
  }
 ]
}